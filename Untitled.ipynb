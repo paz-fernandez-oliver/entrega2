{
 "cells": [
  {
   "cell_type": "code",
   "execution_count": 1,
   "id": "185fc90e-19be-4f11-a904-16d720421257",
   "metadata": {},
   "outputs": [
    {
     "ename": "IndentationError",
     "evalue": "unexpected indent (2376138394.py, line 40)",
     "output_type": "error",
     "traceback": [
      "\u001b[1;36m  Cell \u001b[1;32mIn[1], line 40\u001b[1;36m\u001b[0m\n\u001b[1;33m    final = {}      #diccionario para guardar los resultados finales\u001b[0m\n\u001b[1;37m    ^\u001b[0m\n\u001b[1;31mIndentationError\u001b[0m\u001b[1;31m:\u001b[0m unexpected indent\n"
     ]
    }
   ],
   "source": [
    " rounds = [\n",
    "      {\n",
    "          'Shadow': {'kills': 2, 'assists': 1, 'deaths': True},\n",
    "          'Blaze': {'kills': 1, 'assists': 0, 'deaths': False},\n",
    "          'Viper': {'kills': 1, 'assists': 2, 'deaths': True},\n",
    "          'Frost': {'kills': 0, 'assists': 1, 'deaths': False},\n",
    "          'Reaper': {'kills': 1, 'assists': 1, 'deaths': False}\n",
    "      },\n",
    "      {\n",
    "          'Shadow': {'kills': 0, 'assists': 2, 'deaths': False},\n",
    "          'Blaze': {'kills': 2, 'assists': 0, 'deaths': True},\n",
    "          'Viper': {'kills': 1, 'assists': 1, 'deaths': False},\n",
    "          'Frost': {'kills': 2, 'assists': 1, 'deaths': True},\n",
    "          'Reaper': {'kills': 0, 'assists': 1, 'deaths': False}\n",
    "      },\n",
    "      {\n",
    "          'Shadow': {'kills': 1, 'assists': 0, 'deaths': False},\n",
    "          'Blaze': {'kills': 2, 'assists': 2, 'deaths': True},\n",
    "          'Viper': {'kills': 1, 'assists': 1, 'deaths': True},\n",
    "          'Frost': {'kills': 0, 'assists': 1, 'deaths': False},\n",
    "          'Reaper': {'kills': 1, 'assists': 1, 'deaths': False}\n",
    "      },\n",
    "      {\n",
    "          'Shadow': {'kills': 2, 'assists': 1, 'deaths': False},\n",
    "          'Blaze': {'kills': 1, 'assists': 0, 'deaths': True},\n",
    "          'Viper': {'kills': 0, 'assists': 2, 'deaths': False},\n",
    "          'Frost': {'kills': 1, 'assists': 1, 'deaths': True},\n",
    "          'Reaper': {'kills': 1, 'assists': 1, 'deaths': False}\n",
    "      },\n",
    "      {\n",
    "          'Shadow': {'kills': 1, 'assists': 2, 'deaths': True},\n",
    "          'Blaze': {'kills': 0, 'assists': 1, 'deaths': False},\n",
    "          'Viper': {'kills': 2, 'assists': 0, 'deaths': True},\n",
    "          'Frost': {'kills': 1, 'assists': 1, 'deaths': False},\n",
    "          'Reaper': {'kills': 1, 'assists': 1, 'deaths': True}\n",
    "      }\n",
    "]\n",
    "\n",
    "\n",
    "    final = {}      #diccionario para guardar los resultados finales\n",
    "    mvp = -1        #variable para guardar el MVP de la ronda\n"
   ]
  },
  {
   "cell_type": "code",
   "execution_count": null,
   "id": "5532ecc1-b964-44f9-8dc7-dbc29f0ef160",
   "metadata": {},
   "outputs": [],
   "source": []
  }
 ],
 "metadata": {
  "kernelspec": {
   "display_name": "Python [conda env:base] *",
   "language": "python",
   "name": "conda-base-py"
  },
  "language_info": {
   "codemirror_mode": {
    "name": "ipython",
    "version": 3
   },
   "file_extension": ".py",
   "mimetype": "text/x-python",
   "name": "python",
   "nbconvert_exporter": "python",
   "pygments_lexer": "ipython3",
   "version": "3.12.7"
  }
 },
 "nbformat": 4,
 "nbformat_minor": 5
}

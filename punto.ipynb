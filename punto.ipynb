{
 "cells": [
  {
   "cell_type": "code",
   "execution_count": 41,
   "id": "751e3d2b-50b6-4048-9d9f-09096de49297",
   "metadata": {},
   "outputs": [
    {
     "name": "stdout",
     "output_type": "stream",
     "text": [
      "Beautiful is better than ugly.\n",
      "Explicit is better than implicit.\n",
      "Simple is better than complex.\n",
      "Complex is better than complicated.\n",
      "Flat is better than nested.\n",
      "Sparse is better than dense.\n",
      "Unless explicitly silenced.\n",
      "Now is better than never.\n",
      "Namespaces are one honking great idea -- let's do more of those!\n"
     ]
    }
   ],
   "source": [
    "#punto uno\n",
    "import this\n",
    "\n",
    "zen_text= \"\"\"The Zen of Python, by Tim Peters\n",
    "Beautiful is better than ugly.\n",
    "Explicit is better than implicit.\n",
    "Simple is better than complex.\n",
    "Complex is better than complicated.\n",
    "Flat is better than nested.\n",
    "Sparse is better than dense.\n",
    "Readability counts.\n",
    "Special cases aren't special enough to break the rules.\n",
    "Although practicality beats purity.\n",
    "Errors should never pass silently.\n",
    "Unless explicitly silenced.\n",
    "In the face of ambiguity, refuse the temptation to guess.\n",
    "There should be one-- and preferably only one --obvious way to do it.\n",
    "Although that way may not be obvious at first unless you're Dutch.\n",
    "Now is better than never.\n",
    "Although never is often better than *right* now.\n",
    "If the implementation is hard to explain, it's a bad idea.\n",
    "If the implementation is easy to explain, it may be a good idea.\n",
    "Namespaces are one honking great idea -- let's do more of those!\"\"\"\n",
    "\n",
    "vocales=(\"a\",\"e\",\"i\",\"o\",\"u\",\"A\",\"E\",\"I\",\"O\",\"U\")\n",
    "listas=zen_text.splitlines()\n",
    "for linea in listas:\n",
    "   lista=linea.split()\n",
    "   if lista [1].startswith(vocales):\n",
    "     print(linea)\n",
    "\n",
    "\n"
   ]
  },
  {
   "cell_type": "code",
   "execution_count": 51,
   "id": "90c63dee-56a3-4c8b-b677-9bb7929cddff",
   "metadata": {},
   "outputs": [
    {
     "name": "stdout",
     "output_type": "stream",
     "text": [
      "['Speedrun', 'de', 'Super', 'Mario', 'en', 'tiempo', 'record']\n",
      "['Charla', 'sobre', 'desarrollo', 'de', 'videojuegos']\n",
      "['Jugando', 'al', 'nuevo', 'FPS', 'del', 'momento', 'con', 'amigos']\n",
      "['Musica', 'en', 'vivo:', 'improvisaciones', 'al', 'piano']\n"
     ]
    }
   ],
   "source": [
    "#punto dos\n",
    "titulos= [\"Speedrun de Super Mario en tiempo record\", \"Charla sobre desarrollo de videojuegos\", \n",
    "\"Jugando al nuevo FPS del momento con amigos\", \"Musica en vivo: improvisaciones al piano\"]\n",
    "\n",
    "for linea in titulos: \n",
    "    new_linea= linea.split()\n",
    "    print(new_linea)"
   ]
  },
  {
   "cell_type": "code",
   "execution_count": null,
   "id": "b01ba4aa-a521-41a6-9d65-ca42abbc468e",
   "metadata": {},
   "outputs": [],
   "source": [
    "#punto tres\n",
    "rules = \"\"\"Respeta a los demás. No se permiten insultos ni lenguaje\n",
    " ofensivo.\n",
    " Evita el spam. No publiques enlaces sospechosos o repetitivos.\n",
    " No compartas información personal.\n",
    " Usa los canales adecuados para cada tema.\n",
    " Sigue las instrucciones de los moderadores.\"\"\"\n",
    "\n",
    "palabra= input(\"ingresa una palabra:\")\n",
    "lista=rules.splitlines()\n",
    "for renglones in lista:\n",
    "    nuevo=renglones.split()\n",
    "    if palabra in nuevo:\n",
    "        print (renglones)\n",
    "        "
   ]
  },
  {
   "cell_type": "code",
   "execution_count": null,
   "id": "2501f936-2b69-4458-b501-364fc7aa0b5a",
   "metadata": {},
   "outputs": [],
   "source": [
    "#punto cuatro\n",
    "palabra=input (\"ingrese un usuario\")\n"
   ]
  },
  {
   "cell_type": "code",
   "execution_count": null,
   "id": "4fe84701-60f6-46e0-a8bc-a8eb38fc9533",
   "metadata": {},
   "outputs": [],
   "source": [
    "#punto cinco\n",
    "tiempo= int(input(\"ingrese el tiempo\"))\n",
    "if tiempo < 200:\n",
    "    print (\"rapido\")\n",
    "elif 200 <= tiempo <= 500:\n",
    "    print (\"normal\")\n",
    "else:\n",
    "   print (\"lento\")\n",
    "   "
   ]
  },
  {
   "cell_type": "code",
   "execution_count": null,
   "id": "25e5033e-e4e0-44f8-9194-28a1a67f7596",
   "metadata": {},
   "outputs": [],
   "source": [
    "#punto seis\n",
    "descriptions = [\n",
    " \"Streaming de música en vivo con covers y composiciones\",\n",
    " \"Charla interactiva con la audiencia sobre series y películas\",\n",
    " \"Jugamos a juegos retro y charlamos sobre su historia\",\n",
    " \"Exploramos la mejor música de los 80s y 90s\",\n",
    " \"Programa de entretenimiento con noticias y curiosidades del mundo gamer\",\n",
    " \"Sesión de charla con invitados especiales del mundo del streaming\",\n",
    " \"Música en directo con improvisaciones y peticiones del chat\",\n",
    " \"Un espacio para charlar relajada sobre tecnología y cultura digital\",\n",
    " \"Exploramos el impacto de la música en los videojuegos clásicos\"\n",
    " ]\n",
    "musica= 0\n",
    "entretenimieto=0\n",
    "charla=0\n"
   ]
  },
  {
   "cell_type": "code",
   "execution_count": null,
   "id": "2f331df9-8d12-4c4c-a3c1-7ab1bed2d5a7",
   "metadata": {},
   "outputs": [],
   "source": []
  }
 ],
 "metadata": {
  "kernelspec": {
   "display_name": "Python [conda env:base] *",
   "language": "python",
   "name": "conda-base-py"
  },
  "language_info": {
   "codemirror_mode": {
    "name": "ipython",
    "version": 3
   },
   "file_extension": ".py",
   "mimetype": "text/x-python",
   "name": "python",
   "nbconvert_exporter": "python",
   "pygments_lexer": "ipython3",
   "version": "3.12.7"
  }
 },
 "nbformat": 4,
 "nbformat_minor": 5
}
